{
  "nbformat": 4,
  "nbformat_minor": 5,
  "metadata": {
    "kernelspec": {
      "display_name": "Python 3",
      "language": "python",
      "name": "python3"
    },
    "language_info": {
      "codemirror_mode": {
        "name": "ipython",
        "version": 3
      },
      "file_extension": ".py",
      "mimetype": "text/x-python",
      "name": "python",
      "nbconvert_exporter": "python",
      "pygments_lexer": "ipython3",
      "version": "3.8.8"
    },
    "colab": {
      "name": "Copy_of_Spark_and_Python_for_Big_Data_Final_Exam (1).ipynb",
      "provenance": [],
      "collapsed_sections": []
    }
  },
  "cells": [
    {
      "cell_type": "markdown",
      "metadata": {
        "id": "fa486f23"
      },
      "source": [
        "![image.png](attachment:image.png)"
      ],
      "id": "fa486f23"
    },
    {
      "cell_type": "markdown",
      "metadata": {
        "id": "abbf1e33"
      },
      "source": [
        "##### **Good luck with taking your exam. Keep working and make your dreams all come true. Seeing the results of all of your hard work will make this struggle worth it. We’re all thinking of you.** \n",
        "<b><font color='blue'>AI-PRO Spark Team ITI</font></b>"
      ],
      "id": "abbf1e33"
    },
    {
      "cell_type": "markdown",
      "metadata": {
        "id": "8326ba88"
      },
      "source": [
        "## Objective:\n",
        "- The objective from this project is to create a <b>Logistic Regression Classifier</b> to predict the <b>Stroke Condition</b>.\n",
        "- <b>Stoke</b> is a condition in which either the blood flow to the brain stops or blood flow is excessive.\n",
        "- It is required to obtain <b>ROC > 0.65</b>."
      ],
      "id": "8326ba88"
    },
    {
      "cell_type": "markdown",
      "metadata": {
        "id": "0eb78c16"
      },
      "source": [
        "### Data:\n",
        "- Data is provided in csv format in a file named <b>healthcare-dataset-stroke-data.csv</b>"
      ],
      "id": "0eb78c16"
    },
    {
      "cell_type": "markdown",
      "metadata": {
        "id": "7c842b79"
      },
      "source": [
        "### Column names and data types are as follow:\n",
        "- id, integer.\n",
        "- gender, string.\n",
        "- age, double.\n",
        "- hypertension, integer.\n",
        "- heart_disease, integer.\n",
        "- ever_married, string.\n",
        "- work_type, string.\n",
        "- Residence_type, string.\n",
        "- avg_glucose_level, double.\n",
        "- bmi, double.\n",
        "- smoking_status, string.\n",
        "- stroke, integer <b>(Target Label)</b>.\n",
        "If the person has stroke the stroke label value is <b>\"1\"</b> otherwise <b>\"0\"</b>."
      ],
      "id": "7c842b79"
    },
    {
      "cell_type": "markdown",
      "metadata": {
        "id": "6971f788"
      },
      "source": [
        "## To perform this task follow the following guiding steps:"
      ],
      "id": "6971f788"
    },
    {
      "cell_type": "markdown",
      "metadata": {
        "id": "e31bc851"
      },
      "source": [
        "### Create a spark session and import the required libraries"
      ],
      "id": "e31bc851"
    },
    {
      "cell_type": "code",
      "metadata": {
        "id": "ab3ba311",
        "colab": {
          "base_uri": "https://localhost:8080/"
        },
        "outputId": "2cf61a1c-3a4d-4227-f400-5d77794ce18d"
      },
      "source": [
        "pip install pyspark"
      ],
      "id": "ab3ba311",
      "execution_count": null,
      "outputs": [
        {
          "output_type": "stream",
          "name": "stdout",
          "text": [
            "Collecting pyspark\n",
            "  Downloading pyspark-3.2.0.tar.gz (281.3 MB)\n",
            "\u001b[K     |████████████████████████████████| 281.3 MB 36 kB/s \n",
            "\u001b[?25hCollecting py4j==0.10.9.2\n",
            "  Downloading py4j-0.10.9.2-py2.py3-none-any.whl (198 kB)\n",
            "\u001b[K     |████████████████████████████████| 198 kB 51.6 MB/s \n",
            "\u001b[?25hBuilding wheels for collected packages: pyspark\n",
            "  Building wheel for pyspark (setup.py) ... \u001b[?25l\u001b[?25hdone\n",
            "  Created wheel for pyspark: filename=pyspark-3.2.0-py2.py3-none-any.whl size=281805912 sha256=5e495e03855efe2d3a48866a5472dc0cee451a16227fcd2b28703525c7fdf0ed\n",
            "  Stored in directory: /root/.cache/pip/wheels/0b/de/d2/9be5d59d7331c6c2a7c1b6d1a4f463ce107332b1ecd4e80718\n",
            "Successfully built pyspark\n",
            "Installing collected packages: py4j, pyspark\n",
            "Successfully installed py4j-0.10.9.2 pyspark-3.2.0\n"
          ]
        }
      ]
    },
    {
      "cell_type": "code",
      "metadata": {
        "id": "OXrWe-epsUZL",
        "colab": {
          "base_uri": "https://localhost:8080/"
        },
        "outputId": "3d4564ca-be91-41a0-f7c2-90cade7627cd"
      },
      "source": [
        "pip install findspark"
      ],
      "id": "OXrWe-epsUZL",
      "execution_count": null,
      "outputs": [
        {
          "output_type": "stream",
          "name": "stdout",
          "text": [
            "Collecting findspark\n",
            "  Downloading findspark-1.4.2-py2.py3-none-any.whl (4.2 kB)\n",
            "Installing collected packages: findspark\n",
            "Successfully installed findspark-1.4.2\n"
          ]
        }
      ]
    },
    {
      "cell_type": "code",
      "metadata": {
        "id": "rqd1giw8sUnV"
      },
      "source": [
        "from pyspark.sql import SparkSession\n",
        "from pyspark.sql.types import StructType,StructField, StringType, IntegerType, DoubleType\n",
        "from pyspark.sql import functions as F\n",
        "from pyspark.sql.functions import *\n",
        "from pyspark.ml.feature import StringIndexer, OneHotEncoder, VectorAssembler\n",
        "from pyspark.ml import Pipeline\n",
        "from pyspark.ml.classification import LogisticRegression\n",
        "import seaborn as sns"
      ],
      "id": "rqd1giw8sUnV",
      "execution_count": null,
      "outputs": []
    },
    {
      "cell_type": "markdown",
      "metadata": {
        "id": "843b8468"
      },
      "source": [
        "### Create a data schema programatically"
      ],
      "id": "843b8468"
    },
    {
      "cell_type": "code",
      "metadata": {
        "id": "8616fe16"
      },
      "source": [
        "schema = StructType([ \\\n",
        "    StructField(\"id\", IntegerType(),True), \\\n",
        "    StructField(\"gender\",StringType(),True), \\\n",
        "    StructField(\"age\",DoubleType(),True), \\\n",
        "    StructField(\"hypertension\", IntegerType(), True), \\\n",
        "    StructField(\"heart_disease\", IntegerType(), True), \\\n",
        "    StructField(\"ever_married\", StringType(), True), \\\n",
        "    StructField(\"work_type\", StringType(), True), \\\n",
        "    StructField(\"Residence_type\", StringType(), True), \\\n",
        "    StructField(\"avg_glucose_level\", DoubleType(), True), \\\n",
        "    StructField(\"bmi\", DoubleType(), True), \\\n",
        "    StructField(\"smoking_status\", StringType(), True), \\\n",
        "    StructField(\"stroke\", IntegerType(), True)\n",
        "  ])"
      ],
      "id": "8616fe16",
      "execution_count": null,
      "outputs": []
    },
    {
      "cell_type": "markdown",
      "metadata": {
        "id": "2d00718f"
      },
      "source": [
        "### Read the data using the standard DataReader (Key,Value) pairs format\n",
        "- Provide the schema and any other required options."
      ],
      "id": "2d00718f"
    },
    {
      "cell_type": "code",
      "metadata": {
        "id": "v-XnUinKuC92",
        "colab": {
          "resources": {
            "http://localhost:8080/nbextensions/google.colab/files.js": {
              "data": "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",
              "ok": true,
              "headers": [
                [
                  "content-type",
                  "application/javascript"
                ]
              ],
              "status": 200,
              "status_text": ""
            }
          },
          "base_uri": "https://localhost:8080/",
          "height": 73
        },
        "outputId": "a6a45fc9-5c22-49a1-8c0a-39e824c3b890"
      },
      "source": [
        "from google.colab import files\n",
        "uploaded = files.upload()"
      ],
      "id": "v-XnUinKuC92",
      "execution_count": null,
      "outputs": [
        {
          "output_type": "display_data",
          "data": {
            "text/html": [
              "\n",
              "     <input type=\"file\" id=\"files-e41520bc-41fb-4d21-8676-523b47b7dde0\" name=\"files[]\" multiple disabled\n",
              "        style=\"border:none\" />\n",
              "     <output id=\"result-e41520bc-41fb-4d21-8676-523b47b7dde0\">\n",
              "      Upload widget is only available when the cell has been executed in the\n",
              "      current browser session. Please rerun this cell to enable.\n",
              "      </output>\n",
              "      <script src=\"/nbextensions/google.colab/files.js\"></script> "
            ],
            "text/plain": [
              "<IPython.core.display.HTML object>"
            ]
          },
          "metadata": {}
        },
        {
          "output_type": "stream",
          "name": "stdout",
          "text": [
            "Saving healthcare-dataset-stroke-data.csv to healthcare-dataset-stroke-data.csv\n"
          ]
        }
      ]
    },
    {
      "cell_type": "code",
      "metadata": {
        "id": "ZD9kyX4cumKe"
      },
      "source": [
        "spark = SparkSession.builder.getOrCreate()"
      ],
      "id": "ZD9kyX4cumKe",
      "execution_count": null,
      "outputs": []
    },
    {
      "cell_type": "code",
      "metadata": {
        "id": "61fcc4cd"
      },
      "source": [
        "df = spark.read.csv('healthcare-dataset-stroke-data.csv', header=True, schema=schema)"
      ],
      "id": "61fcc4cd",
      "execution_count": null,
      "outputs": []
    },
    {
      "cell_type": "markdown",
      "metadata": {
        "id": "974bc193"
      },
      "source": [
        "### Explore the data \n",
        "#### You have to do the following:\n",
        "- Print the Schema.\n",
        "- Show the first 10 rows from the data.\n",
        "- Explore null values and show how many null values in each column.\n",
        "- Plot a count plot for the target label and <b>notice the graph</b>.\n",
        "- Perform any additional EDA you find useful."
      ],
      "id": "974bc193"
    },
    {
      "cell_type": "code",
      "metadata": {
        "id": "353b6f34",
        "colab": {
          "base_uri": "https://localhost:8080/"
        },
        "outputId": "69f38e2e-c5f9-48a1-b9c7-0a57dedcaa2d"
      },
      "source": [
        "df.printSchema()"
      ],
      "id": "353b6f34",
      "execution_count": null,
      "outputs": [
        {
          "output_type": "stream",
          "name": "stdout",
          "text": [
            "root\n",
            " |-- id: integer (nullable = true)\n",
            " |-- gender: string (nullable = true)\n",
            " |-- age: double (nullable = true)\n",
            " |-- hypertension: integer (nullable = true)\n",
            " |-- heart_disease: integer (nullable = true)\n",
            " |-- ever_married: string (nullable = true)\n",
            " |-- work_type: string (nullable = true)\n",
            " |-- Residence_type: string (nullable = true)\n",
            " |-- avg_glucose_level: double (nullable = true)\n",
            " |-- bmi: double (nullable = true)\n",
            " |-- smoking_status: string (nullable = true)\n",
            " |-- stroke: integer (nullable = true)\n",
            "\n"
          ]
        }
      ]
    },
    {
      "cell_type": "code",
      "metadata": {
        "id": "t_EwE0_buwn3",
        "colab": {
          "base_uri": "https://localhost:8080/"
        },
        "outputId": "db8f1f1a-0d7d-4ba9-b67f-2d5119d8bea6"
      },
      "source": [
        "df.show(n=10)"
      ],
      "id": "t_EwE0_buwn3",
      "execution_count": null,
      "outputs": [
        {
          "output_type": "stream",
          "name": "stdout",
          "text": [
            "+-----+------+----+------------+-------------+------------+-------------+--------------+-----------------+----+---------------+------+\n",
            "|   id|gender| age|hypertension|heart_disease|ever_married|    work_type|Residence_type|avg_glucose_level| bmi| smoking_status|stroke|\n",
            "+-----+------+----+------------+-------------+------------+-------------+--------------+-----------------+----+---------------+------+\n",
            "| 9046|  Male|67.0|           0|            1|         Yes|      Private|         Urban|           228.69|36.6|formerly smoked|     1|\n",
            "|51676|Female|61.0|           0|            0|         Yes|Self-employed|         Rural|           202.21|null|   never smoked|     1|\n",
            "|31112|  Male|80.0|           0|            1|         Yes|      Private|         Rural|           105.92|32.5|   never smoked|     1|\n",
            "|60182|Female|49.0|           0|            0|         Yes|      Private|         Urban|           171.23|34.4|         smokes|     1|\n",
            "| 1665|Female|79.0|           1|            0|         Yes|Self-employed|         Rural|           174.12|24.0|   never smoked|     1|\n",
            "|56669|  Male|81.0|           0|            0|         Yes|      Private|         Urban|           186.21|29.0|formerly smoked|     1|\n",
            "|53882|  Male|74.0|           1|            1|         Yes|      Private|         Rural|            70.09|27.4|   never smoked|     1|\n",
            "|10434|Female|69.0|           0|            0|          No|      Private|         Urban|            94.39|22.8|   never smoked|     1|\n",
            "|27419|Female|59.0|           0|            0|         Yes|      Private|         Rural|            76.15|null|        Unknown|     1|\n",
            "|60491|Female|78.0|           0|            0|         Yes|      Private|         Urban|            58.57|24.2|        Unknown|     1|\n",
            "+-----+------+----+------------+-------------+------------+-------------+--------------+-----------------+----+---------------+------+\n",
            "only showing top 10 rows\n",
            "\n"
          ]
        }
      ]
    },
    {
      "cell_type": "code",
      "metadata": {
        "id": "71iigQUku_LE",
        "colab": {
          "base_uri": "https://localhost:8080/"
        },
        "outputId": "96235974-2037-4005-dd1a-47f8d7a614f3"
      },
      "source": [
        "df.select([count(when(isnan(c) | col(c).isNull(), c)).alias(c) for c in df.columns]).show()"
      ],
      "id": "71iigQUku_LE",
      "execution_count": null,
      "outputs": [
        {
          "output_type": "stream",
          "name": "stdout",
          "text": [
            "+---+------+---+------------+-------------+------------+---------+--------------+-----------------+---+--------------+------+\n",
            "| id|gender|age|hypertension|heart_disease|ever_married|work_type|Residence_type|avg_glucose_level|bmi|smoking_status|stroke|\n",
            "+---+------+---+------------+-------------+------------+---------+--------------+-----------------+---+--------------+------+\n",
            "|  0|     0|  0|           0|            0|           0|        0|             0|                0|201|             0|     0|\n",
            "+---+------+---+------------+-------------+------------+---------+--------------+-----------------+---+--------------+------+\n",
            "\n"
          ]
        }
      ]
    },
    {
      "cell_type": "code",
      "metadata": {
        "id": "ei-KiTMbvSEP",
        "colab": {
          "base_uri": "https://localhost:8080/"
        },
        "outputId": "86ddf755-b9c6-40e1-cdc3-b133f36a2d20"
      },
      "source": [
        "df.summary().show()"
      ],
      "id": "ei-KiTMbvSEP",
      "execution_count": null,
      "outputs": [
        {
          "output_type": "stream",
          "name": "stdout",
          "text": [
            "+-------+-----------------+------+------------------+------------------+-------------------+------------+---------+--------------+------------------+------------------+--------------+-------------------+\n",
            "|summary|               id|gender|               age|      hypertension|      heart_disease|ever_married|work_type|Residence_type| avg_glucose_level|               bmi|smoking_status|             stroke|\n",
            "+-------+-----------------+------+------------------+------------------+-------------------+------------+---------+--------------+------------------+------------------+--------------+-------------------+\n",
            "|  count|             5110|  5110|              5110|              5110|               5110|        5110|     5110|          5110|              5110|              4909|          5110|               5110|\n",
            "|   mean|36517.82935420744|  null|43.226614481409015|0.0974559686888454|0.05401174168297456|        null|     null|          null|106.14767710371804|28.893236911794673|          null| 0.0487279843444227|\n",
            "| stddev|21161.72162482715|  null| 22.61264672311348| 0.296606674233791|0.22606298750336554|        null|     null|          null| 45.28356015058193|  7.85406672968016|          null|0.21531985698023753|\n",
            "|    min|               67|Female|              0.08|                 0|                  0|          No| Govt_job|         Rural|             55.12|              10.3|       Unknown|                  0|\n",
            "|    25%|            17739|  null|              25.0|                 0|                  0|        null|     null|          null|             77.23|              23.5|          null|                  0|\n",
            "|    50%|            36909|  null|              45.0|                 0|                  0|        null|     null|          null|             91.85|              28.1|          null|                  0|\n",
            "|    75%|            54643|  null|              61.0|                 0|                  0|        null|     null|          null|            114.09|              33.1|          null|                  0|\n",
            "|    max|            72940| Other|              82.0|                 1|                  1|         Yes| children|         Urban|            271.74|              97.6|        smokes|                  1|\n",
            "+-------+-----------------+------+------------------+------------------+-------------------+------------+---------+--------------+------------------+------------------+--------------+-------------------+\n",
            "\n"
          ]
        }
      ]
    },
    {
      "cell_type": "code",
      "metadata": {
        "id": "tmh8zJpEvhq3",
        "colab": {
          "base_uri": "https://localhost:8080/"
        },
        "outputId": "244be5b3-92d3-4232-cd5e-5852f6ae80e8"
      },
      "source": [
        "print(df.count())"
      ],
      "id": "tmh8zJpEvhq3",
      "execution_count": null,
      "outputs": [
        {
          "output_type": "stream",
          "name": "stdout",
          "text": [
            "5110\n"
          ]
        }
      ]
    },
    {
      "cell_type": "code",
      "metadata": {
        "id": "lHWX0vuowGn7",
        "colab": {
          "base_uri": "https://localhost:8080/",
          "height": 279
        },
        "outputId": "3dd4760e-8e1a-4f2b-cac0-96a154a6b546"
      },
      "source": [
        "plot_df = df.toPandas()\n",
        "ax = sns.countplot(x=\"stroke\", data=plot_df)"
      ],
      "id": "lHWX0vuowGn7",
      "execution_count": null,
      "outputs": [
        {
          "output_type": "display_data",
          "data": {
            "image/png": "[encoded data removed]",
            "text/plain": [
              "<Figure size 432x288 with 1 Axes>"
            ]
          },
          "metadata": {
            "needs_background": "light"
          }
        }
      ]
    },
    {
      "cell_type": "markdown",
      "metadata": {
        "id": "59b770cb"
      },
      "source": [
        "### Get the summary statistics of the age column\n",
        "- You will find the minimum age is about <b>0.08</b>.\n",
        "- Remove rows for the age below <b>2 years old</b>."
      ],
      "id": "59b770cb"
    },
    {
      "cell_type": "code",
      "metadata": {
        "id": "cc99c0be",
        "colab": {
          "base_uri": "https://localhost:8080/"
        },
        "outputId": "508e3a18-5ecb-4450-d183-93e2c9a92592"
      },
      "source": [
        "df.select('age').summary().show()"
      ],
      "id": "cc99c0be",
      "execution_count": null,
      "outputs": [
        {
          "output_type": "stream",
          "name": "stdout",
          "text": [
            "+-------+------------------+\n",
            "|summary|               age|\n",
            "+-------+------------------+\n",
            "|  count|              5110|\n",
            "|   mean|43.226614481409015|\n",
            "| stddev| 22.61264672311348|\n",
            "|    min|              0.08|\n",
            "|    25%|              25.0|\n",
            "|    50%|              45.0|\n",
            "|    75%|              61.0|\n",
            "|    max|              82.0|\n",
            "+-------+------------------+\n",
            "\n"
          ]
        }
      ]
    },
    {
      "cell_type": "code",
      "metadata": {
        "scrolled": false,
        "id": "ed40fb11"
      },
      "source": [
        "df = df.select('*').filter('age >= 2')"
      ],
      "id": "ed40fb11",
      "execution_count": null,
      "outputs": []
    },
    {
      "cell_type": "code",
      "metadata": {
        "id": "WCTIyboQzgjr",
        "colab": {
          "base_uri": "https://localhost:8080/"
        },
        "outputId": "d658247b-c1ca-4619-fb79-47937faedc20"
      },
      "source": [
        "df.select('age').summary().show()"
      ],
      "id": "WCTIyboQzgjr",
      "execution_count": null,
      "outputs": [
        {
          "output_type": "stream",
          "name": "stdout",
          "text": [
            "+-------+------------------+\n",
            "|summary|               age|\n",
            "+-------+------------------+\n",
            "|  count|              4990|\n",
            "|   mean| 44.23907815631262|\n",
            "| stddev|21.908077881917443|\n",
            "|    min|               2.0|\n",
            "|    25%|              27.0|\n",
            "|    50%|              45.0|\n",
            "|    75%|              61.0|\n",
            "|    max|              82.0|\n",
            "+-------+------------------+\n",
            "\n"
          ]
        }
      ]
    },
    {
      "cell_type": "markdown",
      "metadata": {
        "id": "bf8c9498"
      },
      "source": [
        "### Working with gender & smoking_status columns:\n",
        "- Select and show the gender & smoking_status columns\n",
        "- Get the distinct values for each column."
      ],
      "id": "bf8c9498"
    },
    {
      "cell_type": "code",
      "metadata": {
        "id": "925a5ecd",
        "colab": {
          "base_uri": "https://localhost:8080/"
        },
        "outputId": "fabe652b-7fed-494c-babe-2d1bf3d1d2d8"
      },
      "source": [
        "df.select('gender', 'smoking_status').show()"
      ],
      "id": "925a5ecd",
      "execution_count": null,
      "outputs": [
        {
          "output_type": "stream",
          "name": "stdout",
          "text": [
            "+------+---------------+\n",
            "|gender| smoking_status|\n",
            "+------+---------------+\n",
            "|  Male|formerly smoked|\n",
            "|Female|   never smoked|\n",
            "|  Male|   never smoked|\n",
            "|Female|         smokes|\n",
            "|Female|   never smoked|\n",
            "|  Male|formerly smoked|\n",
            "|  Male|   never smoked|\n",
            "|Female|   never smoked|\n",
            "|Female|        Unknown|\n",
            "|Female|        Unknown|\n",
            "|Female|   never smoked|\n",
            "|Female|         smokes|\n",
            "|Female|         smokes|\n",
            "|  Male|        Unknown|\n",
            "|Female|   never smoked|\n",
            "|Female|   never smoked|\n",
            "|  Male|         smokes|\n",
            "|  Male|         smokes|\n",
            "|Female|   never smoked|\n",
            "|  Male|        Unknown|\n",
            "+------+---------------+\n",
            "only showing top 20 rows\n",
            "\n"
          ]
        }
      ]
    },
    {
      "cell_type": "code",
      "metadata": {
        "id": "9dfe35a4",
        "colab": {
          "base_uri": "https://localhost:8080/"
        },
        "outputId": "9d642edd-dd05-454c-eac6-c1f988c8808e"
      },
      "source": [
        "df.select('gender').distinct().show()"
      ],
      "id": "9dfe35a4",
      "execution_count": null,
      "outputs": [
        {
          "output_type": "stream",
          "name": "stdout",
          "text": [
            "+------+\n",
            "|gender|\n",
            "+------+\n",
            "|Female|\n",
            "| Other|\n",
            "|  Male|\n",
            "+------+\n",
            "\n"
          ]
        }
      ]
    },
    {
      "cell_type": "code",
      "metadata": {
        "id": "b7bf6c7e",
        "colab": {
          "base_uri": "https://localhost:8080/"
        },
        "outputId": "5a77290e-9cb7-47f9-af4b-3b3fd9eba23e"
      },
      "source": [
        "df.select('smoking_status').distinct().show()"
      ],
      "id": "b7bf6c7e",
      "execution_count": null,
      "outputs": [
        {
          "output_type": "stream",
          "name": "stdout",
          "text": [
            "+---------------+\n",
            "| smoking_status|\n",
            "+---------------+\n",
            "|         smokes|\n",
            "|        Unknown|\n",
            "|   never smoked|\n",
            "|formerly smoked|\n",
            "+---------------+\n",
            "\n"
          ]
        }
      ]
    },
    {
      "cell_type": "markdown",
      "metadata": {
        "id": "850bdfe1"
      },
      "source": [
        "#### Change the string values of the columns into numerical values as follow:\n",
        "1. Gender column:\n",
        "    * Male = 1 \n",
        "    * Female = 0 \n",
        "    * Other = 0 \n",
        "2. Smoking Status column:\n",
        "  * never smoked = 0\n",
        "  * Unknown = 0.5\n",
        "  * formerly smoked = 0.75\n",
        "  * smokes = 1.0\n"
      ],
      "id": "850bdfe1"
    },
    {
      "cell_type": "code",
      "metadata": {
        "id": "355f2ef0",
        "colab": {
          "base_uri": "https://localhost:8080/"
        },
        "outputId": "9537c571-1a52-445e-bca6-62127f3876ea"
      },
      "source": [
        "def gender_num(strr):\n",
        "  if not strr:\n",
        "    return strr\n",
        "  elif strr == 'Male':\n",
        "    return 1 \n",
        "  elif strr == 'Female' or strr == 'Other':\n",
        "    return 0 \n",
        "\n",
        "fudf = udf(lambda x: gender_num(x)) \n",
        "res_df = df.withColumn(\"gender\", fudf(F.col(\"gender\")))\n",
        "res_df.show()"
      ],
      "id": "355f2ef0",
      "execution_count": null,
      "outputs": [
        {
          "output_type": "stream",
          "name": "stdout",
          "text": [
            "+-----+------+----+------------+-------------+------------+-------------+--------------+-----------------+----+---------------+------+\n",
            "|   id|gender| age|hypertension|heart_disease|ever_married|    work_type|Residence_type|avg_glucose_level| bmi| smoking_status|stroke|\n",
            "+-----+------+----+------------+-------------+------------+-------------+--------------+-----------------+----+---------------+------+\n",
            "| 9046|     1|67.0|           0|            1|         Yes|      Private|         Urban|           228.69|36.6|formerly smoked|     1|\n",
            "|51676|     0|61.0|           0|            0|         Yes|Self-employed|         Rural|           202.21|null|   never smoked|     1|\n",
            "|31112|     1|80.0|           0|            1|         Yes|      Private|         Rural|           105.92|32.5|   never smoked|     1|\n",
            "|60182|     0|49.0|           0|            0|         Yes|      Private|         Urban|           171.23|34.4|         smokes|     1|\n",
            "| 1665|     0|79.0|           1|            0|         Yes|Self-employed|         Rural|           174.12|24.0|   never smoked|     1|\n",
            "|56669|     1|81.0|           0|            0|         Yes|      Private|         Urban|           186.21|29.0|formerly smoked|     1|\n",
            "|53882|     1|74.0|           1|            1|         Yes|      Private|         Rural|            70.09|27.4|   never smoked|     1|\n",
            "|10434|     0|69.0|           0|            0|          No|      Private|         Urban|            94.39|22.8|   never smoked|     1|\n",
            "|27419|     0|59.0|           0|            0|         Yes|      Private|         Rural|            76.15|null|        Unknown|     1|\n",
            "|60491|     0|78.0|           0|            0|         Yes|      Private|         Urban|            58.57|24.2|        Unknown|     1|\n",
            "|12109|     0|81.0|           1|            0|         Yes|      Private|         Rural|            80.43|29.7|   never smoked|     1|\n",
            "|12095|     0|61.0|           0|            1|         Yes|     Govt_job|         Rural|           120.46|36.8|         smokes|     1|\n",
            "|12175|     0|54.0|           0|            0|         Yes|      Private|         Urban|           104.51|27.3|         smokes|     1|\n",
            "| 8213|     1|78.0|           0|            1|         Yes|      Private|         Urban|           219.84|null|        Unknown|     1|\n",
            "| 5317|     0|79.0|           0|            1|         Yes|      Private|         Urban|           214.09|28.2|   never smoked|     1|\n",
            "|58202|     0|50.0|           1|            0|         Yes|Self-employed|         Rural|           167.41|30.9|   never smoked|     1|\n",
            "|56112|     1|64.0|           0|            1|         Yes|      Private|         Urban|           191.61|37.5|         smokes|     1|\n",
            "|34120|     1|75.0|           1|            0|         Yes|      Private|         Urban|           221.29|25.8|         smokes|     1|\n",
            "|27458|     0|60.0|           0|            0|          No|      Private|         Urban|            89.22|37.8|   never smoked|     1|\n",
            "|25226|     1|57.0|           0|            1|          No|     Govt_job|         Urban|           217.08|null|        Unknown|     1|\n",
            "+-----+------+----+------------+-------------+------------+-------------+--------------+-----------------+----+---------------+------+\n",
            "only showing top 20 rows\n",
            "\n"
          ]
        }
      ]
    },
    {
      "cell_type": "code",
      "metadata": {
        "id": "9Rw2ppe72sUc",
        "colab": {
          "base_uri": "https://localhost:8080/"
        },
        "outputId": "b95994b6-d4c2-49e7-fc9d-a22cc167e51f"
      },
      "source": [
        "def smoke_num(strr):\n",
        "  if not strr:\n",
        "    return strr\n",
        "  elif strr == 'never smoked':\n",
        "    return 0 \n",
        "  elif strr == 'Unknown':\n",
        "    return 0.5\n",
        "  elif strr == 'formerly smoked':\n",
        "    return 0.75\n",
        "  elif strr == 'smokes':\n",
        "    return 1.0\n",
        "\n",
        "fudf = udf(lambda x: smoke_num(x)) \n",
        "res_df1 = res_df.withColumn(\"smoking_status\", fudf(F.col(\"smoking_status\")))\n",
        "res_df1.show()"
      ],
      "id": "9Rw2ppe72sUc",
      "execution_count": null,
      "outputs": [
        {
          "output_type": "stream",
          "name": "stdout",
          "text": [
            "+-----+------+----+------------+-------------+------------+-------------+--------------+-----------------+----+--------------+------+\n",
            "|   id|gender| age|hypertension|heart_disease|ever_married|    work_type|Residence_type|avg_glucose_level| bmi|smoking_status|stroke|\n",
            "+-----+------+----+------------+-------------+------------+-------------+--------------+-----------------+----+--------------+------+\n",
            "| 9046|     1|67.0|           0|            1|         Yes|      Private|         Urban|           228.69|36.6|          0.75|     1|\n",
            "|51676|     0|61.0|           0|            0|         Yes|Self-employed|         Rural|           202.21|null|             0|     1|\n",
            "|31112|     1|80.0|           0|            1|         Yes|      Private|         Rural|           105.92|32.5|             0|     1|\n",
            "|60182|     0|49.0|           0|            0|         Yes|      Private|         Urban|           171.23|34.4|           1.0|     1|\n",
            "| 1665|     0|79.0|           1|            0|         Yes|Self-employed|         Rural|           174.12|24.0|             0|     1|\n",
            "|56669|     1|81.0|           0|            0|         Yes|      Private|         Urban|           186.21|29.0|          0.75|     1|\n",
            "|53882|     1|74.0|           1|            1|         Yes|      Private|         Rural|            70.09|27.4|             0|     1|\n",
            "|10434|     0|69.0|           0|            0|          No|      Private|         Urban|            94.39|22.8|             0|     1|\n",
            "|27419|     0|59.0|           0|            0|         Yes|      Private|         Rural|            76.15|null|           0.5|     1|\n",
            "|60491|     0|78.0|           0|            0|         Yes|      Private|         Urban|            58.57|24.2|           0.5|     1|\n",
            "|12109|     0|81.0|           1|            0|         Yes|      Private|         Rural|            80.43|29.7|             0|     1|\n",
            "|12095|     0|61.0|           0|            1|         Yes|     Govt_job|         Rural|           120.46|36.8|           1.0|     1|\n",
            "|12175|     0|54.0|           0|            0|         Yes|      Private|         Urban|           104.51|27.3|           1.0|     1|\n",
            "| 8213|     1|78.0|           0|            1|         Yes|      Private|         Urban|           219.84|null|           0.5|     1|\n",
            "| 5317|     0|79.0|           0|            1|         Yes|      Private|         Urban|           214.09|28.2|             0|     1|\n",
            "|58202|     0|50.0|           1|            0|         Yes|Self-employed|         Rural|           167.41|30.9|             0|     1|\n",
            "|56112|     1|64.0|           0|            1|         Yes|      Private|         Urban|           191.61|37.5|           1.0|     1|\n",
            "|34120|     1|75.0|           1|            0|         Yes|      Private|         Urban|           221.29|25.8|           1.0|     1|\n",
            "|27458|     0|60.0|           0|            0|          No|      Private|         Urban|            89.22|37.8|             0|     1|\n",
            "|25226|     1|57.0|           0|            1|          No|     Govt_job|         Urban|           217.08|null|           0.5|     1|\n",
            "+-----+------+----+------------+-------------+------------+-------------+--------------+-----------------+----+--------------+------+\n",
            "only showing top 20 rows\n",
            "\n"
          ]
        }
      ]
    },
    {
      "cell_type": "markdown",
      "metadata": {
        "id": "3da38a31"
      },
      "source": [
        "#### Show the output DataFrame\n",
        "- Select and show the gender & smoking_status columns after value changing.\n",
        "- Print schema for the new dataframe."
      ],
      "id": "3da38a31"
    },
    {
      "cell_type": "code",
      "metadata": {
        "id": "7df0cf29",
        "colab": {
          "base_uri": "https://localhost:8080/"
        },
        "outputId": "4e805849-073d-4dd0-8831-70daec6f19b8"
      },
      "source": [
        "res_df1.select('gender', 'smoking_status').show()"
      ],
      "id": "7df0cf29",
      "execution_count": null,
      "outputs": [
        {
          "output_type": "stream",
          "name": "stdout",
          "text": [
            "+------+--------------+\n",
            "|gender|smoking_status|\n",
            "+------+--------------+\n",
            "|     1|          0.75|\n",
            "|     0|             0|\n",
            "|     1|             0|\n",
            "|     0|           1.0|\n",
            "|     0|             0|\n",
            "|     1|          0.75|\n",
            "|     1|             0|\n",
            "|     0|             0|\n",
            "|     0|           0.5|\n",
            "|     0|           0.5|\n",
            "|     0|             0|\n",
            "|     0|           1.0|\n",
            "|     0|           1.0|\n",
            "|     1|           0.5|\n",
            "|     0|             0|\n",
            "|     0|             0|\n",
            "|     1|           1.0|\n",
            "|     1|           1.0|\n",
            "|     0|             0|\n",
            "|     1|           0.5|\n",
            "+------+--------------+\n",
            "only showing top 20 rows\n",
            "\n"
          ]
        }
      ]
    },
    {
      "cell_type": "code",
      "metadata": {
        "colab": {
          "base_uri": "https://localhost:8080/"
        },
        "id": "3xrqsv7aSwSx",
        "outputId": "33cb10f1-0d87-44c6-e86c-b623448129dd"
      },
      "source": [
        "res_df1.printSchema()"
      ],
      "id": "3xrqsv7aSwSx",
      "execution_count": null,
      "outputs": [
        {
          "output_type": "stream",
          "name": "stdout",
          "text": [
            "root\n",
            " |-- id: integer (nullable = true)\n",
            " |-- gender: string (nullable = true)\n",
            " |-- age: double (nullable = true)\n",
            " |-- hypertension: integer (nullable = true)\n",
            " |-- heart_disease: integer (nullable = true)\n",
            " |-- ever_married: string (nullable = true)\n",
            " |-- work_type: string (nullable = true)\n",
            " |-- Residence_type: string (nullable = true)\n",
            " |-- avg_glucose_level: double (nullable = true)\n",
            " |-- bmi: double (nullable = false)\n",
            " |-- smoking_status: string (nullable = true)\n",
            " |-- stroke: integer (nullable = true)\n",
            "\n"
          ]
        }
      ]
    },
    {
      "cell_type": "markdown",
      "metadata": {
        "id": "89ce3b77"
      },
      "source": [
        "### Deal with null value according to your data analysis."
      ],
      "id": "89ce3b77"
    },
    {
      "cell_type": "code",
      "metadata": {
        "id": "22LGQifg4FcQ"
      },
      "source": [
        "#### bmi is the column with missing values so we will fill missing values with the mean value"
      ],
      "id": "22LGQifg4FcQ",
      "execution_count": null,
      "outputs": []
    },
    {
      "cell_type": "code",
      "metadata": {
        "id": "4d78cb87",
        "colab": {
          "base_uri": "https://localhost:8080/"
        },
        "outputId": "ffbcef60-df06-4912-da75-eb0b6cc2662c"
      },
      "source": [
        "bmi_mean = res_df1.agg({'bmi':'avg'}).collect()[0][0]\n",
        "print(bmi_mean)"
      ],
      "id": "4d78cb87",
      "execution_count": null,
      "outputs": [
        {
          "output_type": "stream",
          "name": "stdout",
          "text": [
            "29.140855057351413\n"
          ]
        }
      ]
    },
    {
      "cell_type": "code",
      "metadata": {
        "id": "iBVlJghE4Te5"
      },
      "source": [
        "res_df1 = res_df1.na.fill(value=bmi_mean,subset=[\"bmi\"])"
      ],
      "id": "iBVlJghE4Te5",
      "execution_count": null,
      "outputs": []
    },
    {
      "cell_type": "code",
      "metadata": {
        "id": "pm4Q1Ad54oRA"
      },
      "source": [
        "#### check that bmi column is now without missing values"
      ],
      "id": "pm4Q1Ad54oRA",
      "execution_count": null,
      "outputs": []
    },
    {
      "cell_type": "code",
      "metadata": {
        "id": "npFEIXoD4iZA",
        "colab": {
          "base_uri": "https://localhost:8080/"
        },
        "outputId": "47e3d3dd-e774-4529-9a38-1dc5a4adaefc"
      },
      "source": [
        "res_df1.select([count(when(isnan(c) | col(c).isNull(), c)).alias(c) for c in res_df1.columns]).show()"
      ],
      "id": "npFEIXoD4iZA",
      "execution_count": null,
      "outputs": [
        {
          "output_type": "stream",
          "name": "stdout",
          "text": [
            "+---+------+---+------------+-------------+------------+---------+--------------+-----------------+---+--------------+------+\n",
            "| id|gender|age|hypertension|heart_disease|ever_married|work_type|Residence_type|avg_glucose_level|bmi|smoking_status|stroke|\n",
            "+---+------+---+------------+-------------+------------+---------+--------------+-----------------+---+--------------+------+\n",
            "|  0|     0|  0|           0|            0|           0|        0|             0|                0|  0|             0|     0|\n",
            "+---+------+---+------------+-------------+------------+---------+--------------+-----------------+---+--------------+------+\n",
            "\n"
          ]
        }
      ]
    },
    {
      "cell_type": "markdown",
      "metadata": {
        "id": "053c429a"
      },
      "source": [
        "### Split the data into training and test dataframes:\n",
        "- 80% training and 20% test.\n",
        "- seed = 42.\n",
        "- Save each dataframe as a parquet file"
      ],
      "id": "053c429a"
    },
    {
      "cell_type": "code",
      "metadata": {
        "id": "0236ea8b",
        "colab": {
          "base_uri": "https://localhost:8080/"
        },
        "outputId": "2b663f4d-b567-4301-ce5a-7e90da24527d"
      },
      "source": [
        "train, test = res_df1.randomSplit([.8,.2], seed=42)\n",
        "print(f\"There are {train.count()} rows in the training set, and {test.count()} in the test set\")"
      ],
      "id": "0236ea8b",
      "execution_count": null,
      "outputs": [
        {
          "output_type": "stream",
          "name": "stdout",
          "text": [
            "There are 4037 rows in the training set, and 953 in the test set\n"
          ]
        }
      ]
    },
    {
      "cell_type": "code",
      "metadata": {
        "id": "J_0DiQ1o4-Lt"
      },
      "source": [
        "train.write.parquet(\"train.parquet\")"
      ],
      "id": "J_0DiQ1o4-Lt",
      "execution_count": null,
      "outputs": []
    },
    {
      "cell_type": "code",
      "metadata": {
        "id": "VQinXMpc5vh_"
      },
      "source": [
        "test.write.parquet(\"test.parquet\")"
      ],
      "id": "VQinXMpc5vh_",
      "execution_count": null,
      "outputs": []
    },
    {
      "cell_type": "markdown",
      "metadata": {
        "id": "78fa24da"
      },
      "source": [
        "### Read the saved Train and Test DataFrame:\n",
        "- Use the dataframes you read in the subsequent steps."
      ],
      "id": "78fa24da"
    },
    {
      "cell_type": "code",
      "metadata": {
        "id": "c3f5c1e3"
      },
      "source": [
        "traindf = spark.read.parquet(\"train.parquet\")"
      ],
      "id": "c3f5c1e3",
      "execution_count": null,
      "outputs": []
    },
    {
      "cell_type": "code",
      "metadata": {
        "id": "03iR2u6M6BwK"
      },
      "source": [
        "testdf = spark.read.parquet(\"test.parquet\")"
      ],
      "id": "03iR2u6M6BwK",
      "execution_count": null,
      "outputs": []
    },
    {
      "cell_type": "markdown",
      "metadata": {
        "id": "987b4b40"
      },
      "source": [
        "### Create the model:\n",
        "- Perform feature engineering steps.\n",
        "- Create the logistic regression classifier.\n",
        "- Build the pipeline model that uses all feature engineering steps and the model.\n",
        "- Train the pipeline model using the trainig dataset."
      ],
      "id": "987b4b40"
    },
    {
      "cell_type": "code",
      "metadata": {
        "id": "3278e362",
        "colab": {
          "base_uri": "https://localhost:8080/"
        },
        "outputId": "65e19151-92f6-4a8f-fb7e-6e2d8eecab73"
      },
      "source": [
        "categoricalCols = [field for (field, dataType) in traindf.dtypes if dataType == \"string\"]\n",
        "categoricalCols"
      ],
      "id": "3278e362",
      "execution_count": null,
      "outputs": [
        {
          "output_type": "execute_result",
          "data": {
            "text/plain": [
              "['gender', 'ever_married', 'work_type', 'Residence_type', 'smoking_status']"
            ]
          },
          "metadata": {},
          "execution_count": 35
        }
      ]
    },
    {
      "cell_type": "code",
      "metadata": {
        "id": "4e41b352",
        "colab": {
          "base_uri": "https://localhost:8080/"
        },
        "outputId": "38a8dbaf-5730-4c7f-f47b-2c43dbaa3fcb"
      },
      "source": [
        "indexOutputCols = [x + \"_Index\" for x in categoricalCols]\n",
        "indexOutputCols"
      ],
      "id": "4e41b352",
      "execution_count": null,
      "outputs": [
        {
          "output_type": "execute_result",
          "data": {
            "text/plain": [
              "['gender_Index',\n",
              " 'ever_married_Index',\n",
              " 'work_type_Index',\n",
              " 'Residence_type_Index',\n",
              " 'smoking_status_Index']"
            ]
          },
          "metadata": {},
          "execution_count": 36
        }
      ]
    },
    {
      "cell_type": "code",
      "metadata": {
        "id": "106453d7",
        "colab": {
          "base_uri": "https://localhost:8080/"
        },
        "outputId": "6cf82c39-552c-454c-d16f-6941f8316dc8"
      },
      "source": [
        "oheOutputCols = [x + \"_OHE\" for x in categoricalCols]\n",
        "oheOutputCols"
      ],
      "id": "106453d7",
      "execution_count": null,
      "outputs": [
        {
          "output_type": "execute_result",
          "data": {
            "text/plain": [
              "['gender_OHE',\n",
              " 'ever_married_OHE',\n",
              " 'work_type_OHE',\n",
              " 'Residence_type_OHE',\n",
              " 'smoking_status_OHE']"
            ]
          },
          "metadata": {},
          "execution_count": 37
        }
      ]
    },
    {
      "cell_type": "code",
      "metadata": {
        "id": "OLAHY6Ve63ew"
      },
      "source": [
        "stringIndexer = StringIndexer(inputCols=categoricalCols,\n",
        "                             outputCols=indexOutputCols,\n",
        "                             handleInvalid='skip')"
      ],
      "id": "OLAHY6Ve63ew",
      "execution_count": null,
      "outputs": []
    },
    {
      "cell_type": "code",
      "metadata": {
        "id": "HSN81Hpp63ih"
      },
      "source": [
        "oheEncoder = OneHotEncoder(inputCols=indexOutputCols,\n",
        "                          outputCols=oheOutputCols)"
      ],
      "id": "HSN81Hpp63ih",
      "execution_count": null,
      "outputs": []
    },
    {
      "cell_type": "code",
      "metadata": {
        "id": "54QrPwzP63mg",
        "colab": {
          "base_uri": "https://localhost:8080/"
        },
        "outputId": "cb37573c-1c39-4fba-bdbf-e5a7a8282b0d"
      },
      "source": [
        "numericCols = [field for (field,dataType) in res_df1.dtypes\n",
        "              if ((dataType=='double' or dataType=='int')& (field!='stroke'))]\n",
        "numericCols"
      ],
      "id": "54QrPwzP63mg",
      "execution_count": null,
      "outputs": [
        {
          "output_type": "execute_result",
          "data": {
            "text/plain": [
              "['id', 'age', 'hypertension', 'heart_disease', 'avg_glucose_level', 'bmi']"
            ]
          },
          "metadata": {},
          "execution_count": 40
        }
      ]
    },
    {
      "cell_type": "code",
      "metadata": {
        "id": "H2hYBFo971g1",
        "colab": {
          "base_uri": "https://localhost:8080/"
        },
        "outputId": "ac241961-9f5b-405f-8697-4108e28bacd4"
      },
      "source": [
        "numericCols[1:]"
      ],
      "id": "H2hYBFo971g1",
      "execution_count": null,
      "outputs": [
        {
          "output_type": "execute_result",
          "data": {
            "text/plain": [
              "['age', 'hypertension', 'heart_disease', 'avg_glucose_level', 'bmi']"
            ]
          },
          "metadata": {},
          "execution_count": 41
        }
      ]
    },
    {
      "cell_type": "code",
      "metadata": {
        "id": "z-lHOzLe7AKh",
        "colab": {
          "base_uri": "https://localhost:8080/"
        },
        "outputId": "6106af8a-e6d0-4733-d33f-b03eb5b82f67"
      },
      "source": [
        "assemblerInputs = oheOutputCols + numericCols[1:]\n",
        "assemblerInputs"
      ],
      "id": "z-lHOzLe7AKh",
      "execution_count": null,
      "outputs": [
        {
          "output_type": "execute_result",
          "data": {
            "text/plain": [
              "['gender_OHE',\n",
              " 'ever_married_OHE',\n",
              " 'work_type_OHE',\n",
              " 'Residence_type_OHE',\n",
              " 'smoking_status_OHE',\n",
              " 'age',\n",
              " 'hypertension',\n",
              " 'heart_disease',\n",
              " 'avg_glucose_level',\n",
              " 'bmi']"
            ]
          },
          "metadata": {},
          "execution_count": 42
        }
      ]
    },
    {
      "cell_type": "code",
      "metadata": {
        "id": "02wHxn4c7ANq"
      },
      "source": [
        "vecAssembler = VectorAssembler(inputCols=assemblerInputs,outputCol='features')"
      ],
      "id": "02wHxn4c7ANq",
      "execution_count": null,
      "outputs": []
    },
    {
      "cell_type": "code",
      "metadata": {
        "id": "Fa-JWOul7AR8"
      },
      "source": [
        "lr = LogisticRegression(featuresCol='features',labelCol='stroke')\n",
        "pipeline = Pipeline(stages = [stringIndexer,oheEncoder,vecAssembler,lr])\n",
        "pipelineModel = pipeline.fit(traindf)"
      ],
      "id": "Fa-JWOul7AR8",
      "execution_count": null,
      "outputs": []
    },
    {
      "cell_type": "code",
      "metadata": {
        "id": "L-6odx0V7AbN"
      },
      "source": [
        ""
      ],
      "id": "L-6odx0V7AbN",
      "execution_count": null,
      "outputs": []
    },
    {
      "cell_type": "code",
      "metadata": {
        "id": "0wqj8EtS7AkM"
      },
      "source": [
        ""
      ],
      "id": "0wqj8EtS7AkM",
      "execution_count": null,
      "outputs": []
    },
    {
      "cell_type": "markdown",
      "metadata": {
        "id": "a05c2677"
      },
      "source": [
        "### Perform predictions on tests dataframe:\n",
        "- Test the model using the test dataframe\n",
        "- Select and show the feature column.\n",
        "- Print the schema of the output dataframe.\n",
        "- Select and show both prediction and label columns.\n",
        "- Explore the results for the label column stroke=1. i.e. select both columns (prediction,stroke) for stroke=1.<b>notice the result.</b> \n",
        "- Count the predicted 1 and 0 values.<b>notice the result.</b>   "
      ],
      "id": "a05c2677"
    },
    {
      "cell_type": "code",
      "metadata": {
        "id": "5Zmbb05L960J",
        "colab": {
          "base_uri": "https://localhost:8080/"
        },
        "outputId": "e0c5d48c-c3ba-4bac-b86b-9936d3b722b4"
      },
      "source": [
        "predDF = pipelineModel.transform(testdf)\n",
        "predDF.select('features','stroke','prediction').show()"
      ],
      "id": "5Zmbb05L960J",
      "execution_count": null,
      "outputs": [
        {
          "output_type": "stream",
          "name": "stdout",
          "text": [
            "+--------------------+------+----------+\n",
            "|            features|stroke|prediction|\n",
            "+--------------------+------+----------+\n",
            "|(15,[1,2,6,7,10,1...|     0|       0.0|\n",
            "|(15,[0,2,6,7,10,1...|     0|       0.0|\n",
            "|(15,[0,1,2,7,10,1...|     0|       0.0|\n",
            "|(15,[0,1,2,8,10,1...|     0|       0.0|\n",
            "|(15,[1,2,6,7,10,1...|     0|       0.0|\n",
            "|(15,[0,1,2,7,10,1...|     0|       0.0|\n",
            "|(15,[1,3,7,10,11,...|     0|       0.0|\n",
            "|(15,[0,1,3,6,7,10...|     1|       0.0|\n",
            "|(15,[0,5,8,10,13,...|     0|       0.0|\n",
            "|(15,[1,2,10,13,14...|     0|       0.0|\n",
            "|(15,[1,4,10,13,14...|     0|       0.0|\n",
            "|(15,[0,2,9,10,11,...|     1|       0.0|\n",
            "|(15,[2,7,10,13,14...|     0|       0.0|\n",
            "|(15,[0,1,3,9,10,1...|     0|       0.0|\n",
            "|(15,[0,1,2,7,10,1...|     0|       0.0|\n",
            "|(15,[0,1,4,6,10,1...|     0|       0.0|\n",
            "|(15,[0,2,6,7,10,1...|     0|       0.0|\n",
            "|(15,[1,2,6,10,11,...|     0|       0.0|\n",
            "|(15,[1,4,6,9,10,1...|     0|       0.0|\n",
            "|(15,[0,2,6,7,10,1...|     0|       0.0|\n",
            "+--------------------+------+----------+\n",
            "only showing top 20 rows\n",
            "\n"
          ]
        }
      ]
    },
    {
      "cell_type": "code",
      "metadata": {
        "id": "HHyzBETI967h",
        "colab": {
          "base_uri": "https://localhost:8080/"
        },
        "outputId": "1d36ff83-4703-49cc-ddc5-0e4adbfdd172"
      },
      "source": [
        "predDF.select('features').show()"
      ],
      "id": "HHyzBETI967h",
      "execution_count": null,
      "outputs": [
        {
          "output_type": "stream",
          "name": "stdout",
          "text": [
            "+--------------------+\n",
            "|            features|\n",
            "+--------------------+\n",
            "|(15,[1,2,6,7,10,1...|\n",
            "|(15,[0,2,6,7,10,1...|\n",
            "|(15,[0,1,2,7,10,1...|\n",
            "|(15,[0,1,2,8,10,1...|\n",
            "|(15,[1,2,6,7,10,1...|\n",
            "|(15,[0,1,2,7,10,1...|\n",
            "|(15,[1,3,7,10,11,...|\n",
            "|(15,[0,1,3,6,7,10...|\n",
            "|(15,[0,5,8,10,13,...|\n",
            "|(15,[1,2,10,13,14...|\n",
            "|(15,[1,4,10,13,14...|\n",
            "|(15,[0,2,9,10,11,...|\n",
            "|(15,[2,7,10,13,14...|\n",
            "|(15,[0,1,3,9,10,1...|\n",
            "|(15,[0,1,2,7,10,1...|\n",
            "|(15,[0,1,4,6,10,1...|\n",
            "|(15,[0,2,6,7,10,1...|\n",
            "|(15,[1,2,6,10,11,...|\n",
            "|(15,[1,4,6,9,10,1...|\n",
            "|(15,[0,2,6,7,10,1...|\n",
            "+--------------------+\n",
            "only showing top 20 rows\n",
            "\n"
          ]
        }
      ]
    },
    {
      "cell_type": "code",
      "metadata": {
        "id": "znWpkw-A96-c",
        "colab": {
          "base_uri": "https://localhost:8080/"
        },
        "outputId": "54297107-3c00-434c-a548-ca4a28636195"
      },
      "source": [
        "predDF.printSchema()"
      ],
      "id": "znWpkw-A96-c",
      "execution_count": null,
      "outputs": [
        {
          "output_type": "stream",
          "name": "stdout",
          "text": [
            "root\n",
            " |-- id: integer (nullable = true)\n",
            " |-- gender: string (nullable = true)\n",
            " |-- age: double (nullable = true)\n",
            " |-- hypertension: integer (nullable = true)\n",
            " |-- heart_disease: integer (nullable = true)\n",
            " |-- ever_married: string (nullable = true)\n",
            " |-- work_type: string (nullable = true)\n",
            " |-- Residence_type: string (nullable = true)\n",
            " |-- avg_glucose_level: double (nullable = true)\n",
            " |-- bmi: double (nullable = true)\n",
            " |-- smoking_status: string (nullable = true)\n",
            " |-- stroke: integer (nullable = true)\n",
            " |-- gender_Index: double (nullable = false)\n",
            " |-- ever_married_Index: double (nullable = false)\n",
            " |-- work_type_Index: double (nullable = false)\n",
            " |-- Residence_type_Index: double (nullable = false)\n",
            " |-- smoking_status_Index: double (nullable = false)\n",
            " |-- gender_OHE: vector (nullable = true)\n",
            " |-- ever_married_OHE: vector (nullable = true)\n",
            " |-- work_type_OHE: vector (nullable = true)\n",
            " |-- Residence_type_OHE: vector (nullable = true)\n",
            " |-- smoking_status_OHE: vector (nullable = true)\n",
            " |-- features: vector (nullable = true)\n",
            " |-- rawPrediction: vector (nullable = true)\n",
            " |-- probability: vector (nullable = true)\n",
            " |-- prediction: double (nullable = false)\n",
            "\n"
          ]
        }
      ]
    },
    {
      "cell_type": "code",
      "metadata": {
        "id": "gClLJ8J-97BK",
        "colab": {
          "base_uri": "https://localhost:8080/"
        },
        "outputId": "2a50ef71-bd65-44c8-aae2-e5e96be26fa5"
      },
      "source": [
        "predDF.select('stroke','prediction').show()"
      ],
      "id": "gClLJ8J-97BK",
      "execution_count": null,
      "outputs": [
        {
          "output_type": "stream",
          "name": "stdout",
          "text": [
            "+------+----------+\n",
            "|stroke|prediction|\n",
            "+------+----------+\n",
            "|     0|       0.0|\n",
            "|     0|       0.0|\n",
            "|     0|       0.0|\n",
            "|     0|       0.0|\n",
            "|     0|       0.0|\n",
            "|     0|       0.0|\n",
            "|     0|       0.0|\n",
            "|     1|       0.0|\n",
            "|     0|       0.0|\n",
            "|     0|       0.0|\n",
            "|     0|       0.0|\n",
            "|     1|       0.0|\n",
            "|     0|       0.0|\n",
            "|     0|       0.0|\n",
            "|     0|       0.0|\n",
            "|     0|       0.0|\n",
            "|     0|       0.0|\n",
            "|     0|       0.0|\n",
            "|     0|       0.0|\n",
            "|     0|       0.0|\n",
            "+------+----------+\n",
            "only showing top 20 rows\n",
            "\n"
          ]
        }
      ]
    },
    {
      "cell_type": "code",
      "metadata": {
        "id": "p3GhIi6n97K1",
        "colab": {
          "base_uri": "https://localhost:8080/"
        },
        "outputId": "1a23b9c3-79c9-4d1d-cf63-a293adbf3027"
      },
      "source": [
        "predDF.select('stroke','prediction').filter('stroke == 1').show()"
      ],
      "id": "p3GhIi6n97K1",
      "execution_count": null,
      "outputs": [
        {
          "output_type": "stream",
          "name": "stdout",
          "text": [
            "+------+----------+\n",
            "|stroke|prediction|\n",
            "+------+----------+\n",
            "|     1|       0.0|\n",
            "|     1|       0.0|\n",
            "|     1|       0.0|\n",
            "|     1|       0.0|\n",
            "|     1|       0.0|\n",
            "|     1|       0.0|\n",
            "|     1|       0.0|\n",
            "|     1|       0.0|\n",
            "|     1|       0.0|\n",
            "|     1|       0.0|\n",
            "|     1|       0.0|\n",
            "|     1|       0.0|\n",
            "|     1|       0.0|\n",
            "|     1|       0.0|\n",
            "|     1|       0.0|\n",
            "|     1|       0.0|\n",
            "|     1|       0.0|\n",
            "|     1|       0.0|\n",
            "|     1|       0.0|\n",
            "|     1|       0.0|\n",
            "+------+----------+\n",
            "only showing top 20 rows\n",
            "\n"
          ]
        }
      ]
    },
    {
      "cell_type": "code",
      "metadata": {
        "id": "d772bef6",
        "colab": {
          "base_uri": "https://localhost:8080/"
        },
        "outputId": "26406566-efa3-41ff-8c24-53164f32b5f0"
      },
      "source": [
        "predDF.groupBy('prediction').count().show()"
      ],
      "id": "d772bef6",
      "execution_count": null,
      "outputs": [
        {
          "output_type": "stream",
          "name": "stdout",
          "text": [
            "+----------+-----+\n",
            "|prediction|count|\n",
            "+----------+-----+\n",
            "|       0.0|  953|\n",
            "+----------+-----+\n",
            "\n"
          ]
        }
      ]
    },
    {
      "cell_type": "markdown",
      "metadata": {
        "id": "daec120f"
      },
      "source": [
        "### Evaluate the model performance\n",
        "- Use <b>BinaryClassificationEvaluator</b>. This will calculate the <b>ROC</b>.\n",
        "- Set the parameters as follow:\n",
        "    - <b>rawPredictionCol='prediction'</b> and <b>labelCol='stroke'</b>"
      ],
      "id": "daec120f"
    },
    {
      "cell_type": "code",
      "metadata": {
        "id": "a7b5ad25"
      },
      "source": [
        "from pyspark.ml.evaluation import BinaryClassificationEvaluator"
      ],
      "id": "a7b5ad25",
      "execution_count": null,
      "outputs": []
    },
    {
      "cell_type": "code",
      "metadata": {
        "id": "44d3a1e6"
      },
      "source": [
        "evaluatorROC = BinaryClassificationEvaluator(rawPredictionCol='prediction'\n",
        "                                             ,labelCol='stroke')"
      ],
      "id": "44d3a1e6",
      "execution_count": null,
      "outputs": []
    },
    {
      "cell_type": "code",
      "metadata": {
        "id": "3adbe41f",
        "colab": {
          "base_uri": "https://localhost:8080/"
        },
        "outputId": "f49f88f8-d247-46c5-ac6c-3848f50c737a"
      },
      "source": [
        "evaluatorROC.evaluate(predDF)"
      ],
      "id": "3adbe41f",
      "execution_count": null,
      "outputs": [
        {
          "output_type": "execute_result",
          "data": {
            "text/plain": [
              "0.5"
            ]
          },
          "metadata": {},
          "execution_count": 53
        }
      ]
    },
    {
      "cell_type": "markdown",
      "metadata": {
        "id": "40206589"
      },
      "source": [
        "### Improve Model Performance\n",
        "- You may noticed that <b>the target label is imbalanced</b>.\n",
        "- LogisticRegression classifier has a special parameter <b>weightCol</b> to deal with imbalanced class.\n",
        "- In order to use this parameter you must have a <b>weightCol</b> in your training dataframe.\n",
        "- In order to create this column you will need to define a <b>UDF</b> and apply it to the target label column.\n",
        "- Create a LogisticRegression classifier with <b>weightCol</b> parameter.\n",
        "- Build and train a pipeline model with the new LogisticRegression.\n",
        "- Perform the prediction on the test dataframe. \n",
        "- Select and show both prediction and label columns.\n",
        "- Explore the results for the label column stroke=1. i.e. select both columns (prediction,stroke) for stroke=1.<b>notice the result.</b> \n",
        "- Count the predicted 1 and 0 values.<b>notice the result.</b>   \n",
        "- Evaluate the model performance exactly as in the previous step.\n",
        "### YOU SHOULD OBTAIN  ROC > 0.65\n",
        "<BR>\n",
        "<b><font color='red'>Note: feel free to deal with the imbalanced cluster with the above method or another. However, you can only use methods applied on SPARK DATAFRAME</font></b>"
      ],
      "id": "40206589"
    },
    {
      "cell_type": "code",
      "metadata": {
        "id": "fQjZNLFpIhJQ",
        "colab": {
          "base_uri": "https://localhost:8080/"
        },
        "outputId": "233dc8cf-9ad4-429a-a5ba-ebb60c331bb3"
      },
      "source": [
        "numOnes = traindf.filter(\"stroke == 1\").count()\n",
        "numOnes"
      ],
      "id": "fQjZNLFpIhJQ",
      "execution_count": null,
      "outputs": [
        {
          "output_type": "execute_result",
          "data": {
            "text/plain": [
              "202"
            ]
          },
          "metadata": {},
          "execution_count": 54
        }
      ]
    },
    {
      "cell_type": "code",
      "metadata": {
        "id": "ko5EBQQjI56M",
        "colab": {
          "base_uri": "https://localhost:8080/"
        },
        "outputId": "7fbdb515-afa2-4fa3-add3-6d8356faaee9"
      },
      "source": [
        "trainSize = traindf.count()\n",
        "trainSize"
      ],
      "id": "ko5EBQQjI56M",
      "execution_count": null,
      "outputs": [
        {
          "output_type": "execute_result",
          "data": {
            "text/plain": [
              "4037"
            ]
          },
          "metadata": {},
          "execution_count": 55
        }
      ]
    },
    {
      "cell_type": "code",
      "metadata": {
        "id": "gKFLutjSINxy",
        "colab": {
          "base_uri": "https://localhost:8080/"
        },
        "outputId": "dda102ca-14d4-4ed4-e5d6-7567728a848c"
      },
      "source": [
        "balancingRatio = (trainSize - numOnes) / trainSize\n",
        "type(balancingRatio)"
      ],
      "id": "gKFLutjSINxy",
      "execution_count": null,
      "outputs": [
        {
          "output_type": "execute_result",
          "data": {
            "text/plain": [
              "float"
            ]
          },
          "metadata": {},
          "execution_count": 56
        }
      ]
    },
    {
      "cell_type": "code",
      "metadata": {
        "id": "IGu9jlA2MRGJ",
        "colab": {
          "base_uri": "https://localhost:8080/"
        },
        "outputId": "db26415e-afa3-43e2-804f-60b47ba4433c"
      },
      "source": [
        "debalancingRatio = 1 - balancingRatio\n",
        "debalancingRatio"
      ],
      "id": "IGu9jlA2MRGJ",
      "execution_count": null,
      "outputs": [
        {
          "output_type": "execute_result",
          "data": {
            "text/plain": [
              "0.05003715630418626"
            ]
          },
          "metadata": {},
          "execution_count": 57
        }
      ]
    },
    {
      "cell_type": "code",
      "metadata": {
        "id": "zR56NnE_Cm6p",
        "colab": {
          "base_uri": "https://localhost:8080/"
        },
        "outputId": "a7b61707-9956-4838-9b20-46b72c88bded"
      },
      "source": [
        "def weight(val):\n",
        "  \n",
        "  if val == 1:\n",
        "    return balancingRatio\n",
        "  \n",
        "  elif val == 0:\n",
        "    return debalancingRatio\n",
        "\n",
        "fudf = udf(lambda x: weight(x)) \n",
        "traindf1 = traindf.withColumn(\"weight\", fudf(F.col(\"stroke\")))\n",
        "traindf1.show()"
      ],
      "id": "zR56NnE_Cm6p",
      "execution_count": null,
      "outputs": [
        {
          "output_type": "stream",
          "name": "stdout",
          "text": [
            "+---+------+----+------------+-------------+------------+-------------+--------------+-----------------+------------------+--------------+------+-------------------+\n",
            "| id|gender| age|hypertension|heart_disease|ever_married|    work_type|Residence_type|avg_glucose_level|               bmi|smoking_status|stroke|             weight|\n",
            "+---+------+----+------------+-------------+------------+-------------+--------------+-----------------+------------------+--------------+------+-------------------+\n",
            "| 67|     0|17.0|           0|            0|          No|      Private|         Urban|            92.97|29.140855057351413|          0.75|     0|0.05003715630418626|\n",
            "| 77|     0|13.0|           0|            0|          No|     children|         Rural|            85.81|              18.6|           0.5|     0|0.05003715630418626|\n",
            "| 91|     0|42.0|           0|            0|          No|      Private|         Urban|            98.53|              18.5|             0|     0|0.05003715630418626|\n",
            "| 99|     0|31.0|           0|            0|          No|      Private|         Urban|           108.89|              52.3|           0.5|     0|0.05003715630418626|\n",
            "|121|     0|38.0|           0|            0|         Yes|      Private|         Urban|            91.44|29.140855057351413|           0.5|     0|0.05003715630418626|\n",
            "|132|     0|80.0|           0|            0|         Yes|     Govt_job|         Urban|            84.86|29.140855057351413|           0.5|     0|0.05003715630418626|\n",
            "|163|     0|20.0|           0|            0|          No|      Private|         Rural|            94.67|              28.8|           0.5|     0|0.05003715630418626|\n",
            "|170|     1|43.0|           0|            0|         Yes|     Govt_job|         Rural|            80.07|29.140855057351413|             0|     0|0.05003715630418626|\n",
            "|172|     1| 8.0|           0|            0|          No|     children|         Urban|            78.76|29.140855057351413|           0.5|     0|0.05003715630418626|\n",
            "|187|     0|20.0|           0|            0|          No|      Private|         Rural|            84.07|              27.6|           1.0|     0|0.05003715630418626|\n",
            "|210|     1|81.0|           0|            0|         Yes|Self-employed|         Rural|            91.54|              31.4|             0|     1| 0.9499628436958137|\n",
            "|224|     0|23.0|           0|            0|          No|      Private|         Urban|           110.16|29.140855057351413|             0|     0|0.05003715630418626|\n",
            "|239|     1|59.0|           1|            1|         Yes|      Private|         Rural|           246.53|              27.2|          0.75|     0|0.05003715630418626|\n",
            "|242|     1| 4.0|           0|            0|          No|     children|         Urban|            98.56|              17.5|           0.5|     0|0.05003715630418626|\n",
            "|247|     1|31.0|           0|            0|          No|      Private|         Urban|             72.6|              31.6|             0|     0|0.05003715630418626|\n",
            "|298|     0|41.0|           0|            0|         Yes|Self-employed|         Rural|            76.66|29.140855057351413|           0.5|     0|0.05003715630418626|\n",
            "|315|     1|45.0|           0|            0|         Yes|      Private|         Rural|            65.42|              39.7|             0|     0|0.05003715630418626|\n",
            "|321|     0|79.0|           0|            0|          No|Self-employed|         Rural|            71.98|              36.4|             0|     0|0.05003715630418626|\n",
            "|347|     0|16.0|           0|            0|          No|      Private|         Urban|            89.45|29.140855057351413|           0.5|     0|0.05003715630418626|\n",
            "|354|     0|65.0|           0|            0|         Yes|      Private|         Urban|            72.49|              28.9|           1.0|     0|0.05003715630418626|\n",
            "+---+------+----+------------+-------------+------------+-------------+--------------+-----------------+------------------+--------------+------+-------------------+\n",
            "only showing top 20 rows\n",
            "\n"
          ]
        }
      ]
    },
    {
      "cell_type": "code",
      "metadata": {
        "id": "vbFelSO5LTsY"
      },
      "source": [
        "traindf1 = traindf1.withColumn(\"weight\",traindf1.weight.cast('double'))"
      ],
      "id": "vbFelSO5LTsY",
      "execution_count": null,
      "outputs": []
    },
    {
      "cell_type": "code",
      "metadata": {
        "id": "D_RpmWYwNfEo",
        "colab": {
          "base_uri": "https://localhost:8080/"
        },
        "outputId": "1dc93c5d-15f3-45ec-82f5-b60ab8b0e27d"
      },
      "source": [
        "traindf1.select('stroke', 'weight').show()"
      ],
      "id": "D_RpmWYwNfEo",
      "execution_count": null,
      "outputs": [
        {
          "output_type": "stream",
          "name": "stdout",
          "text": [
            "+------+-------------------+\n",
            "|stroke|             weight|\n",
            "+------+-------------------+\n",
            "|     0|0.05003715630418626|\n",
            "|     0|0.05003715630418626|\n",
            "|     0|0.05003715630418626|\n",
            "|     0|0.05003715630418626|\n",
            "|     0|0.05003715630418626|\n",
            "|     0|0.05003715630418626|\n",
            "|     0|0.05003715630418626|\n",
            "|     0|0.05003715630418626|\n",
            "|     0|0.05003715630418626|\n",
            "|     0|0.05003715630418626|\n",
            "|     1| 0.9499628436958137|\n",
            "|     0|0.05003715630418626|\n",
            "|     0|0.05003715630418626|\n",
            "|     0|0.05003715630418626|\n",
            "|     0|0.05003715630418626|\n",
            "|     0|0.05003715630418626|\n",
            "|     0|0.05003715630418626|\n",
            "|     0|0.05003715630418626|\n",
            "|     0|0.05003715630418626|\n",
            "|     0|0.05003715630418626|\n",
            "+------+-------------------+\n",
            "only showing top 20 rows\n",
            "\n"
          ]
        }
      ]
    },
    {
      "cell_type": "code",
      "metadata": {
        "id": "ggYqNS0BCnCf"
      },
      "source": [
        "lr1 = LogisticRegression(featuresCol='features', labelCol='stroke', weightCol='weight')\n",
        "pipeline = Pipeline(stages = [stringIndexer,oheEncoder,vecAssembler,lr1])\n",
        "pipelineModel = pipeline.fit(traindf1)"
      ],
      "id": "ggYqNS0BCnCf",
      "execution_count": null,
      "outputs": []
    },
    {
      "cell_type": "code",
      "metadata": {
        "id": "lesSNXj9CnJY"
      },
      "source": [
        "predDF1 = pipelineModel.transform(testdf)"
      ],
      "id": "lesSNXj9CnJY",
      "execution_count": null,
      "outputs": []
    },
    {
      "cell_type": "code",
      "metadata": {
        "id": "CKDXGAhKNJOw",
        "colab": {
          "base_uri": "https://localhost:8080/"
        },
        "outputId": "e286d922-0e8a-41eb-c90e-8a3e6716a2c6"
      },
      "source": [
        "predDF1.select('stroke','prediction').show()"
      ],
      "id": "CKDXGAhKNJOw",
      "execution_count": null,
      "outputs": [
        {
          "output_type": "stream",
          "name": "stdout",
          "text": [
            "+------+----------+\n",
            "|stroke|prediction|\n",
            "+------+----------+\n",
            "|     0|       0.0|\n",
            "|     0|       0.0|\n",
            "|     0|       0.0|\n",
            "|     0|       0.0|\n",
            "|     0|       1.0|\n",
            "|     0|       0.0|\n",
            "|     0|       1.0|\n",
            "|     1|       1.0|\n",
            "|     0|       0.0|\n",
            "|     0|       1.0|\n",
            "|     0|       0.0|\n",
            "|     1|       1.0|\n",
            "|     0|       0.0|\n",
            "|     0|       1.0|\n",
            "|     0|       1.0|\n",
            "|     0|       1.0|\n",
            "|     0|       0.0|\n",
            "|     0|       1.0|\n",
            "|     0|       1.0|\n",
            "|     0|       0.0|\n",
            "+------+----------+\n",
            "only showing top 20 rows\n",
            "\n"
          ]
        }
      ]
    },
    {
      "cell_type": "code",
      "metadata": {
        "id": "54C0vpNWNLak",
        "colab": {
          "base_uri": "https://localhost:8080/"
        },
        "outputId": "d06c8874-a5d3-4ea3-ef04-b76df74ffbe9"
      },
      "source": [
        "predDF1.select('stroke','prediction').filter('stroke == 1').show()"
      ],
      "id": "54C0vpNWNLak",
      "execution_count": null,
      "outputs": [
        {
          "output_type": "stream",
          "name": "stdout",
          "text": [
            "+------+----------+\n",
            "|stroke|prediction|\n",
            "+------+----------+\n",
            "|     1|       1.0|\n",
            "|     1|       1.0|\n",
            "|     1|       1.0|\n",
            "|     1|       1.0|\n",
            "|     1|       1.0|\n",
            "|     1|       0.0|\n",
            "|     1|       1.0|\n",
            "|     1|       1.0|\n",
            "|     1|       0.0|\n",
            "|     1|       1.0|\n",
            "|     1|       1.0|\n",
            "|     1|       0.0|\n",
            "|     1|       1.0|\n",
            "|     1|       1.0|\n",
            "|     1|       1.0|\n",
            "|     1|       1.0|\n",
            "|     1|       1.0|\n",
            "|     1|       1.0|\n",
            "|     1|       1.0|\n",
            "|     1|       1.0|\n",
            "+------+----------+\n",
            "only showing top 20 rows\n",
            "\n"
          ]
        }
      ]
    },
    {
      "cell_type": "code",
      "metadata": {
        "id": "4PwTjvnRNPzR",
        "colab": {
          "base_uri": "https://localhost:8080/"
        },
        "outputId": "f939967d-eca5-48b4-86c0-71e4a5bf0e7f"
      },
      "source": [
        "predDF1.groupBy('prediction').count().show()"
      ],
      "id": "4PwTjvnRNPzR",
      "execution_count": null,
      "outputs": [
        {
          "output_type": "stream",
          "name": "stdout",
          "text": [
            "+----------+-----+\n",
            "|prediction|count|\n",
            "+----------+-----+\n",
            "|       0.0|  666|\n",
            "|       1.0|  287|\n",
            "+----------+-----+\n",
            "\n"
          ]
        }
      ]
    },
    {
      "cell_type": "code",
      "metadata": {
        "id": "00e034e9",
        "colab": {
          "base_uri": "https://localhost:8080/"
        },
        "outputId": "b98ab66f-2f35-4f2f-c905-d16b3046839f"
      },
      "source": [
        "evaluatorROC.evaluate(predDF1)"
      ],
      "id": "00e034e9",
      "execution_count": null,
      "outputs": [
        {
          "output_type": "execute_result",
          "data": {
            "text/plain": [
              "0.764356933991659"
            ]
          },
          "metadata": {},
          "execution_count": 66
        }
      ]
    },
    {
      "cell_type": "markdown",
      "metadata": {
        "id": "e00e7b53"
      },
      "source": [
        "# GOOD LUCK\n",
        "<b><font color='GREEN'>AI-PRO Spark Team ITI</font></b>"
      ],
      "id": "e00e7b53"
    },
    {
      "cell_type": "markdown",
      "metadata": {
        "id": "0e065922"
      },
      "source": [
        "![image-3.png](attachment:image-3.png)"
      ],
      "id": "0e065922"
    }
  ]
}